{
 "cells": [
  {
   "cell_type": "code",
   "execution_count": 30,
   "id": "56d89a2c-5501-430b-af7e-675cc2f44231",
   "metadata": {},
   "outputs": [],
   "source": [
    "##Oppgave 1"
   ]
  },
  {
   "cell_type": "code",
   "execution_count": 31,
   "id": "bddd9a77-ffa3-46ce-9bda-46552c06d5b1",
   "metadata": {},
   "outputs": [],
   "source": [
    "import sympy as sp\n",
    "x,y=sp.symbols (\"x y\")"
   ]
  },
  {
   "cell_type": "code",
   "execution_count": 25,
   "id": "c3e6a0c3-6eb2-4c62-bed0-401c9a45c6b4",
   "metadata": {},
   "outputs": [
    {
     "data": {
      "text/latex": [
       "$\\displaystyle 2 x + 4 y = 6$"
      ],
      "text/plain": [
       "Eq(2*x + 4*y, 6)"
      ]
     },
     "execution_count": 25,
     "metadata": {},
     "output_type": "execute_result"
    }
   ],
   "source": [
    "eq1=sp.Eq(2*x+4*y,6)\n",
    "eq1"
   ]
  },
  {
   "cell_type": "code",
   "execution_count": 24,
   "id": "63b61bb6-2008-453d-b982-11c1aee175b8",
   "metadata": {},
   "outputs": [
    {
     "data": {
      "text/latex": [
       "$\\displaystyle - 2 x + y = 4$"
      ],
      "text/plain": [
       "Eq(-2*x + y, 4)"
      ]
     },
     "execution_count": 24,
     "metadata": {},
     "output_type": "execute_result"
    }
   ],
   "source": [
    "eq2= sp.Eq(-2*x+y,4)\n",
    "eq2"
   ]
  },
  {
   "cell_type": "code",
   "execution_count": 26,
   "id": "1e9821cd-2fd1-451d-86a0-fd7baacc6a06",
   "metadata": {},
   "outputs": [
    {
     "data": {
      "text/plain": [
       "{x: -1, y: 2}"
      ]
     },
     "execution_count": 26,
     "metadata": {},
     "output_type": "execute_result"
    }
   ],
   "source": [
    "from sympy.solvers import solve\n",
    "sol=solve([eq1,eq2],[x,y])\n",
    "sol"
   ]
  },
  {
   "cell_type": "code",
   "execution_count": 29,
   "id": "814207e4-60da-4355-b13c-5619b23035e2",
   "metadata": {},
   "outputs": [
    {
     "data": {
      "text/latex": [
       "$\\displaystyle \\text{True}$"
      ],
      "text/plain": [
       "True"
      ]
     },
     "execution_count": 29,
     "metadata": {},
     "output_type": "execute_result"
    }
   ],
   "source": [
    "eq2.subs(sol)"
   ]
  },
  {
   "cell_type": "code",
   "execution_count": 32,
   "id": "4f3c7a7b-c3de-4bf5-88a7-68d8610451dd",
   "metadata": {},
   "outputs": [],
   "source": [
    "#Finner ut av x=-1 og y=2 i oppgave 1"
   ]
  },
  {
   "cell_type": "code",
   "execution_count": 33,
   "id": "77e6180f-00d5-4c8c-8bb9-96043c99cc6f",
   "metadata": {},
   "outputs": [],
   "source": [
    "##Oppgave 1B"
   ]
  },
  {
   "cell_type": "code",
   "execution_count": 34,
   "id": "916f23de-54e6-48c8-bdb4-3054fa01109d",
   "metadata": {},
   "outputs": [],
   "source": [
    "x,y=sp.symbols (\"x y\")"
   ]
  },
  {
   "cell_type": "code",
   "execution_count": 37,
   "id": "6da6ec52-f092-4688-b870-f6cc98e68baf",
   "metadata": {},
   "outputs": [],
   "source": [
    "eq1=sp.Eq(2*x-y,-1)"
   ]
  },
  {
   "cell_type": "code",
   "execution_count": 39,
   "id": "1a6c7c0c-b72c-4db9-8d74-e82f547a4c83",
   "metadata": {},
   "outputs": [],
   "source": [
    "eq2=sp.Eq(x**2+x-y,1)"
   ]
  },
  {
   "cell_type": "code",
   "execution_count": 40,
   "id": "d579f32b-ada2-48bd-bd15-5154ac8f5ba9",
   "metadata": {},
   "outputs": [
    {
     "data": {
      "text/plain": [
       "[(-1, -1), (2, 5)]"
      ]
     },
     "execution_count": 40,
     "metadata": {},
     "output_type": "execute_result"
    }
   ],
   "source": [
    "from sympy.solvers import solve\n",
    "sol=solve([eq1,eq2],[x,y])\n",
    "sol"
   ]
  },
  {
   "cell_type": "code",
   "execution_count": 41,
   "id": "5326f026-8c30-473c-b557-3889010b37ac",
   "metadata": {},
   "outputs": [],
   "source": [
    "#Oppgave 2"
   ]
  },
  {
   "cell_type": "code",
   "execution_count": 42,
   "id": "30c89a5b-d717-4bdc-a748-e9f420f3b7f7",
   "metadata": {},
   "outputs": [],
   "source": [
    "eq1=sp.Eq(3*x-12,-6*y)"
   ]
  },
  {
   "cell_type": "code",
   "execution_count": 44,
   "id": "70a063b1-1ac6-4acd-b586-08dedf57450c",
   "metadata": {},
   "outputs": [],
   "source": [
    "eq2=sp.Eq(4*x-8*y,16)"
   ]
  },
  {
   "cell_type": "code",
   "execution_count": 45,
   "id": "f4c750e7-b7c7-4d04-af94-27260f12427c",
   "metadata": {},
   "outputs": [
    {
     "data": {
      "text/plain": [
       "{x: 4, y: 0}"
      ]
     },
     "execution_count": 45,
     "metadata": {},
     "output_type": "execute_result"
    }
   ],
   "source": [
    "from sympy.solvers import solve\n",
    "sol=solve([eq1,eq2],[x,y])\n",
    "sol"
   ]
  },
  {
   "cell_type": "code",
   "execution_count": 47,
   "id": "34189074-f6b5-44a6-813f-acf75efbf9d9",
   "metadata": {},
   "outputs": [],
   "source": [
    "#OPpgave 2b\n",
    "#x2+ 4x−3 = 3y\n",
    "#2y= 8−x"
   ]
  },
  {
   "cell_type": "code",
   "execution_count": 79,
   "id": "526330b6-873b-4f36-a9be-af60e56bfb60",
   "metadata": {},
   "outputs": [
    {
     "data": {
      "text/latex": [
       "$\\displaystyle x^{2} + 4 x - 3 = 3 y$"
      ],
      "text/plain": [
       "Eq(x**2 + 4*x - 3, 3*y)"
      ]
     },
     "execution_count": 79,
     "metadata": {},
     "output_type": "execute_result"
    }
   ],
   "source": [
    "eq3=sp.Eq(x**2+4*x-3,3*y)\n",
    "eq3"
   ]
  },
  {
   "cell_type": "code",
   "execution_count": 80,
   "id": "69eb15e1-0085-4227-a9b6-3740d63e6410",
   "metadata": {},
   "outputs": [
    {
     "data": {
      "text/latex": [
       "$\\displaystyle 2 y = 8 - x$"
      ],
      "text/plain": [
       "Eq(2*y, 8 - x)"
      ]
     },
     "execution_count": 80,
     "metadata": {},
     "output_type": "execute_result"
    }
   ],
   "source": [
    "eq4=sp.Eq(2*y,8-x)\n",
    "eq4"
   ]
  },
  {
   "cell_type": "code",
   "execution_count": null,
   "id": "7b29089d-42c7-4141-ada0-cb7787d77374",
   "metadata": {},
   "outputs": [],
   "source": []
  },
  {
   "cell_type": "code",
   "execution_count": 81,
   "id": "19eab44a-6b47-4c7a-8185-87d7d2662e1b",
   "metadata": {},
   "outputs": [
    {
     "data": {
      "text/plain": [
       "[(-15/2, 31/4), (2, 3)]"
      ]
     },
     "execution_count": 81,
     "metadata": {},
     "output_type": "execute_result"
    }
   ],
   "source": [
    "from sympy.solvers import solve\n",
    "sol=solve([eq3,eq4],[x,y])\n",
    "sol"
   ]
  },
  {
   "cell_type": "code",
   "execution_count": 82,
   "id": "4d094a3c-400e-4fe4-ba1e-8e9b2f26fa2e",
   "metadata": {},
   "outputs": [],
   "source": [
    "##16, adisjonsmetoden"
   ]
  },
  {
   "cell_type": "code",
   "execution_count": 83,
   "id": "0d6b6fc2-2303-420f-a384-8edbfe2898c8",
   "metadata": {},
   "outputs": [],
   "source": [
    "#Oppgave 1a\n",
    "#(1)4x+ 2y= 12\n",
    "#(2)6x−2y= 8"
   ]
  },
  {
   "cell_type": "code",
   "execution_count": 97,
   "id": "b5ed045e-d252-4584-9f53-9476ee1300cb",
   "metadata": {},
   "outputs": [
    {
     "data": {
      "text/latex": [
       "$\\displaystyle 4 x + 2 y = 12$"
      ],
      "text/plain": [
       "Eq(4*x + 2*y, 12)"
      ]
     },
     "execution_count": 97,
     "metadata": {},
     "output_type": "execute_result"
    }
   ],
   "source": [
    "eq1=sp.Eq(4*x+2*y,12)\n",
    "eq1"
   ]
  },
  {
   "cell_type": "code",
   "execution_count": 98,
   "id": "e4bf51ef-075c-44e3-9091-577fc0b69b2f",
   "metadata": {},
   "outputs": [
    {
     "data": {
      "text/latex": [
       "$\\displaystyle 6 x - 2 y = 8$"
      ],
      "text/plain": [
       "Eq(6*x - 2*y, 8)"
      ]
     },
     "execution_count": 98,
     "metadata": {},
     "output_type": "execute_result"
    }
   ],
   "source": [
    "eq2=sp.Eq(6*x-2*y,8)\n",
    "eq2"
   ]
  },
  {
   "cell_type": "code",
   "execution_count": 99,
   "id": "53403db3-996e-4c3c-9430-5bd99a5f7310",
   "metadata": {},
   "outputs": [
    {
     "data": {
      "text/plain": [
       "{x: 2, y: 2}"
      ]
     },
     "execution_count": 99,
     "metadata": {},
     "output_type": "execute_result"
    }
   ],
   "source": [
    "from sympy.solvers import solve\n",
    "sol=solve([eq1,eq2],[x,y])\n",
    "sol"
   ]
  },
  {
   "cell_type": "code",
   "execution_count": 102,
   "id": "1a4b7c2b-de58-4ea1-a266-52f1dee64a2a",
   "metadata": {},
   "outputs": [],
   "source": [
    "#Oppgave 1b\n",
    "#2x+y2= 25\n",
    "#x−2y= 10\n"
   ]
  },
  {
   "cell_type": "code",
   "execution_count": 108,
   "id": "d510bb32-cd99-498f-b394-8baf6f1bf07d",
   "metadata": {},
   "outputs": [
    {
     "data": {
      "text/latex": [
       "$\\displaystyle 2 x + y^{2} = 25$"
      ],
      "text/plain": [
       "Eq(2*x + y**2, 25)"
      ]
     },
     "execution_count": 108,
     "metadata": {},
     "output_type": "execute_result"
    }
   ],
   "source": [
    "eq1=sp.Eq(2*x+y**2,25)\n",
    "eq1"
   ]
  },
  {
   "cell_type": "code",
   "execution_count": 109,
   "id": "b75abcf1-58d6-4a29-9d81-24b5684d99e1",
   "metadata": {},
   "outputs": [
    {
     "data": {
      "text/latex": [
       "$\\displaystyle x - 2 y = 10$"
      ],
      "text/plain": [
       "Eq(x - 2*y, 10)"
      ]
     },
     "execution_count": 109,
     "metadata": {},
     "output_type": "execute_result"
    }
   ],
   "source": [
    "eq2=sp.Eq(x-2*y,10)\n",
    "eq2"
   ]
  },
  {
   "cell_type": "code",
   "execution_count": 105,
   "id": "e5201160-53a6-4f6e-b859-91815f7aec4c",
   "metadata": {},
   "outputs": [
    {
     "data": {
      "text/plain": [
       "[(0, -5), (12, 1)]"
      ]
     },
     "execution_count": 105,
     "metadata": {},
     "output_type": "execute_result"
    }
   ],
   "source": [
    "from sympy.solvers import solve\n",
    "sol=solve([eq1,eq2],[x,y])\n",
    "sol"
   ]
  },
  {
   "cell_type": "code",
   "execution_count": 107,
   "id": "40406901-f2b3-4c07-b20f-5bce4321e15f",
   "metadata": {},
   "outputs": [],
   "source": [
    "\n",
    "#Oppgave 2\n",
    "#1)4x−4y= 8\n",
    "#29x−5y= 26"
   ]
  },
  {
   "cell_type": "code",
   "execution_count": 110,
   "id": "40a53df4-1988-4adc-afa5-c6997f52a3f4",
   "metadata": {},
   "outputs": [],
   "source": [
    "eq1=sp.Eq(4*x-4*y,8)"
   ]
  },
  {
   "cell_type": "code",
   "execution_count": 113,
   "id": "f7d4a998-012b-45ca-b441-fc2ab6fe2e66",
   "metadata": {},
   "outputs": [],
   "source": [
    "eq2=sp.Eq(9*x-5*y,26)"
   ]
  },
  {
   "cell_type": "code",
   "execution_count": 114,
   "id": "104da62a-5850-474b-b94d-b1fde19ec18f",
   "metadata": {},
   "outputs": [
    {
     "data": {
      "text/plain": [
       "{x: 4, y: 2}"
      ]
     },
     "execution_count": 114,
     "metadata": {},
     "output_type": "execute_result"
    }
   ],
   "source": [
    "from sympy.solvers import solve\n",
    "sol=solve([eq1,eq2],[x,y])\n",
    "sol"
   ]
  },
  {
   "cell_type": "code",
   "execution_count": 115,
   "id": "debc82a0-7c53-4eac-9e2c-7bcf7b5d1de2",
   "metadata": {},
   "outputs": [],
   "source": [
    "#Oppgave 2b\n",
    "#1)x+ 2y2= 15\n",
    "#2)x2−4y2= 33"
   ]
  },
  {
   "cell_type": "code",
   "execution_count": 123,
   "id": "94681713-7761-4432-8551-db460ac53145",
   "metadata": {},
   "outputs": [
    {
     "data": {
      "text/latex": [
       "$\\displaystyle x + 2 y^{2} = 15$"
      ],
      "text/plain": [
       "Eq(x + 2*y**2, 15)"
      ]
     },
     "execution_count": 123,
     "metadata": {},
     "output_type": "execute_result"
    }
   ],
   "source": [
    "eq1=sp.Eq(x+2*y**2,15)\n",
    "eq1"
   ]
  },
  {
   "cell_type": "code",
   "execution_count": 124,
   "id": "a93e7665-c32e-4625-9327-0b870cbcb443",
   "metadata": {},
   "outputs": [
    {
     "data": {
      "text/latex": [
       "$\\displaystyle x^{2} - 4 y^{2} = 33$"
      ],
      "text/plain": [
       "Eq(x**2 - 4*y**2, 33)"
      ]
     },
     "execution_count": 124,
     "metadata": {},
     "output_type": "execute_result"
    }
   ],
   "source": [
    "eq2=sp.Eq(x**2-4*y**2,33)\n",
    "eq2"
   ]
  },
  {
   "cell_type": "code",
   "execution_count": 125,
   "id": "9bf52b2f-69a9-493b-9a5e-00f6845a87f2",
   "metadata": {},
   "outputs": [
    {
     "data": {
      "text/plain": [
       "[(-9, -2*sqrt(3)), (-9, 2*sqrt(3)), (7, -2), (7, 2)]"
      ]
     },
     "execution_count": 125,
     "metadata": {},
     "output_type": "execute_result"
    }
   ],
   "source": [
    "from sympy.solvers import solve\n",
    "sol=solve([eq1,eq2],[x,y])\n",
    "sol"
   ]
  },
  {
   "cell_type": "code",
   "execution_count": 121,
   "id": "a545d338-1ef7-4a5c-b9c9-2e830fb552ff",
   "metadata": {},
   "outputs": [],
   "source": [
    "# 17\n",
    "#Oppgave 1a\n",
    "#(1)xy2−x= 0\n",
    "#(2)x+y2= 16\n"
   ]
  },
  {
   "cell_type": "code",
   "execution_count": 126,
   "id": "df71ed4a-9bad-4a90-ae7a-4810371a8b8a",
   "metadata": {},
   "outputs": [],
   "source": [
    "eq1=sp.Eq(x*y**2-x,0)\n",
    "eq2=sp.Eq(x+y**2,16)"
   ]
  },
  {
   "cell_type": "code",
   "execution_count": 127,
   "id": "af4a7027-75d9-4f2c-9084-7f1567bd139a",
   "metadata": {},
   "outputs": [
    {
     "data": {
      "text/plain": [
       "[(0, -4), (0, 4), (15, -1), (15, 1)]"
      ]
     },
     "execution_count": 127,
     "metadata": {},
     "output_type": "execute_result"
    }
   ],
   "source": [
    "from sympy.solvers import solve\n",
    "sol=solve([eq1,eq2],[x,y])\n",
    "sol"
   ]
  },
  {
   "cell_type": "code",
   "execution_count": 128,
   "id": "fed54de7-a3c8-448c-a5b8-3b71c4ba6071",
   "metadata": {},
   "outputs": [],
   "source": [
    "#1b\n",
    "#1)x2+y2= 100\n",
    "#2)x2y−36y= 0\n",
    "\n",
    "\n"
   ]
  },
  {
   "cell_type": "code",
   "execution_count": 136,
   "id": "faa32686-1cad-46c1-a3c0-e0a5da4bd74f",
   "metadata": {},
   "outputs": [],
   "source": [
    "eq1=sp.Eq(x**2+y**2,100)\n",
    "eq2=sp.Eq(x**2*y-36*y,0)"
   ]
  },
  {
   "cell_type": "code",
   "execution_count": 137,
   "id": "1959251e-07b9-4c41-88e8-7557c9f4f192",
   "metadata": {},
   "outputs": [
    {
     "data": {
      "text/plain": [
       "[(-10, 0), (-6, -8), (-6, 8), (6, -8), (6, 8), (10, 0)]"
      ]
     },
     "execution_count": 137,
     "metadata": {},
     "output_type": "execute_result"
    }
   ],
   "source": [
    "from sympy.solvers import solve\n",
    "sol=solve([eq1,eq2],[x,y])\n",
    "sol"
   ]
  },
  {
   "cell_type": "code",
   "execution_count": 138,
   "id": "a0dfce02-dcac-448d-95d2-f5639497632f",
   "metadata": {},
   "outputs": [],
   "source": [
    "#Oppgave 2a\n",
    "#1)xy2−49x= 0\n",
    "#2)x2+y2= 58\n"
   ]
  },
  {
   "cell_type": "code",
   "execution_count": 139,
   "id": "88980a66-df65-4427-a0a6-3e635f86c415",
   "metadata": {},
   "outputs": [],
   "source": [
    "eq1=sp.Eq(x*y**2-49*x,0)\n",
    "eq2=sp.Eq(x**2+y**2,58)"
   ]
  },
  {
   "cell_type": "code",
   "execution_count": 140,
   "id": "fa686dc4-aefc-47c4-a989-a7838c0ce3ae",
   "metadata": {},
   "outputs": [
    {
     "data": {
      "text/plain": [
       "[(-3, -7), (-3, 7), (0, -sqrt(58)), (0, sqrt(58)), (3, -7), (3, 7)]"
      ]
     },
     "execution_count": 140,
     "metadata": {},
     "output_type": "execute_result"
    }
   ],
   "source": [
    "from sympy.solvers import solve\n",
    "sol=solve([eq1,eq2],[x,y])\n",
    "sol"
   ]
  },
  {
   "cell_type": "code",
   "execution_count": 141,
   "id": "bd6d6f92-a831-4612-ada5-8fcfa2d5ce5d",
   "metadata": {},
   "outputs": [],
   "source": [
    "#2b\n",
    "#(1)x2+y2=54\n",
    "#(2)2xy+y= 0"
   ]
  },
  {
   "cell_type": "code",
   "execution_count": 142,
   "id": "724ff8e3-3cd3-4c9f-88ed-9504120d78bd",
   "metadata": {},
   "outputs": [],
   "source": [
    "eq1=sp.Eq(x**2+y**2,54)\n",
    "eq2=sp.Eq(2*x*y+y,0)"
   ]
  },
  {
   "cell_type": "code",
   "execution_count": 143,
   "id": "e5ef38bf-2d3a-4290-a8d0-5c4e5250272d",
   "metadata": {},
   "outputs": [
    {
     "data": {
      "text/plain": [
       "[(-1/2, -sqrt(215)/2), (-1/2, sqrt(215)/2), (-3*sqrt(6), 0), (3*sqrt(6), 0)]"
      ]
     },
     "execution_count": 143,
     "metadata": {},
     "output_type": "execute_result"
    }
   ],
   "source": [
    "from sympy.solvers import solve\n",
    "sol=solve([eq1,eq2],[x,y])\n",
    "sol"
   ]
  },
  {
   "cell_type": "code",
   "execution_count": 144,
   "id": "442836db-7078-4a92-9526-b63674431e31",
   "metadata": {},
   "outputs": [],
   "source": [
    "#19\n",
    "\n"
   ]
  },
  {
   "cell_type": "code",
   "execution_count": 150,
   "id": "ce6bf628-c2df-44bf-92d0-8b5909d8a397",
   "metadata": {},
   "outputs": [],
   "source": [
    "import sympy as sym"
   ]
  },
  {
   "cell_type": "code",
   "execution_count": 156,
   "id": "8e9c8469-b229-465b-bc73-ff92957ed75f",
   "metadata": {},
   "outputs": [
    {
     "data": {
      "text/latex": [
       "$\\displaystyle 5 x^{4}$"
      ],
      "text/plain": [
       "5*x**4"
      ]
     },
     "execution_count": 156,
     "metadata": {},
     "output_type": "execute_result"
    }
   ],
   "source": [
    "#Oppgave1a\n",
    "sym.diff(x**5)"
   ]
  },
  {
   "cell_type": "code",
   "execution_count": 157,
   "id": "d230dc37-320f-41b9-acf7-43745bd02d3f",
   "metadata": {},
   "outputs": [
    {
     "data": {
      "text/latex": [
       "$\\displaystyle 1$"
      ],
      "text/plain": [
       "1"
      ]
     },
     "execution_count": 157,
     "metadata": {},
     "output_type": "execute_result"
    }
   ],
   "source": [
    "#Oppgave 1b\n",
    "sym.diff(x+12)"
   ]
  },
  {
   "cell_type": "code",
   "execution_count": 161,
   "id": "f8f3f22d-5d79-4e7d-ac9c-fe2f2071887b",
   "metadata": {},
   "outputs": [
    {
     "data": {
      "text/latex": [
       "$\\displaystyle 3 x^{2} + 4$"
      ],
      "text/plain": [
       "3*x**2 + 4"
      ]
     },
     "execution_count": 161,
     "metadata": {},
     "output_type": "execute_result"
    }
   ],
   "source": [
    "#c\n",
    "sym.diff(x**3+4*x)"
   ]
  },
  {
   "cell_type": "code",
   "execution_count": 231,
   "id": "dad03f3b-fa01-41f4-9e0d-c02b02e9fa90",
   "metadata": {},
   "outputs": [],
   "source": [
    "#d\n",
    "import math\n",
    "\n",
    "import numpy as np\n"
   ]
  },
  {
   "cell_type": "code",
   "execution_count": 174,
   "id": "1404621b-a21e-4388-ba80-c0b23526fd0d",
   "metadata": {},
   "outputs": [
    {
     "data": {
      "text/latex": [
       "$\\displaystyle 6 x^{2}$"
      ],
      "text/plain": [
       "6*x**2"
      ]
     },
     "execution_count": 174,
     "metadata": {},
     "output_type": "execute_result"
    }
   ],
   "source": [
    "sym.diff(2*x**3+36**1/2)"
   ]
  },
  {
   "cell_type": "code",
   "execution_count": 187,
   "id": "5e0eff08-09ba-46b5-b02a-ca5e92124cb1",
   "metadata": {},
   "outputs": [],
   "source": [
    "\n",
    "\n"
   ]
  },
  {
   "cell_type": "code",
   "execution_count": 202,
   "id": "7b9733de-cfd2-47ec-98f6-f3b4b41b5bf2",
   "metadata": {},
   "outputs": [
    {
     "data": {
      "text/latex": [
       "$\\displaystyle \\frac{1}{2}$"
      ],
      "text/plain": [
       "1/2"
      ]
     },
     "execution_count": 202,
     "metadata": {},
     "output_type": "execute_result"
    }
   ],
   "source": [
    "sym.diff(x**1/2+52)"
   ]
  },
  {
   "cell_type": "code",
   "execution_count": 204,
   "id": "6e277992-2a26-4f41-8150-4796d2efab4d",
   "metadata": {},
   "outputs": [
    {
     "data": {
      "text/latex": [
       "$\\displaystyle x^{3} + \\frac{1}{x}$"
      ],
      "text/plain": [
       "x**3 + 1/x"
      ]
     },
     "execution_count": 204,
     "metadata": {},
     "output_type": "execute_result"
    }
   ],
   "source": [
    "#F\n",
    "x**3+1/x"
   ]
  },
  {
   "cell_type": "code",
   "execution_count": 205,
   "id": "c13f89fa-02b6-43ba-8d30-94d043494b9a",
   "metadata": {},
   "outputs": [
    {
     "data": {
      "text/latex": [
       "$\\displaystyle 3 x^{2} - \\frac{1}{x^{2}}$"
      ],
      "text/plain": [
       "3*x**2 - 1/x**2"
      ]
     },
     "execution_count": 205,
     "metadata": {},
     "output_type": "execute_result"
    }
   ],
   "source": [
    "sym.diff(x**3+1/x)"
   ]
  },
  {
   "cell_type": "code",
   "execution_count": 208,
   "id": "11fd8c1a-613f-4cf2-8681-a82d8ac4b116",
   "metadata": {},
   "outputs": [],
   "source": [
    "# x**3−x**2+14*x"
   ]
  },
  {
   "cell_type": "code",
   "execution_count": 210,
   "id": "d77d1d1e-857d-4fd1-a0a3-daa9c72a10db",
   "metadata": {},
   "outputs": [
    {
     "data": {
      "text/latex": [
       "$\\displaystyle 3 x^{2} - 2 x + 14$"
      ],
      "text/plain": [
       "3*x**2 - 2*x + 14"
      ]
     },
     "execution_count": 210,
     "metadata": {},
     "output_type": "execute_result"
    }
   ],
   "source": [
    "sym.diff(x**3-x**2+14*x)"
   ]
  },
  {
   "cell_type": "code",
   "execution_count": 213,
   "id": "a428b4d2-d81f-4854-b32e-27c5e6672453",
   "metadata": {},
   "outputs": [
    {
     "data": {
      "text/latex": [
       "$\\displaystyle 6 x^{6} + \\frac{1}{x}$"
      ],
      "text/plain": [
       "6*x**6 + 1/x"
      ]
     },
     "execution_count": 213,
     "metadata": {},
     "output_type": "execute_result"
    }
   ],
   "source": [
    "#Oppgave 2\n",
    "1/x+6*x**6"
   ]
  },
  {
   "cell_type": "code",
   "execution_count": 214,
   "id": "5090ae1e-732f-4210-a0f9-c4ac8ea81ba6",
   "metadata": {},
   "outputs": [
    {
     "data": {
      "text/latex": [
       "$\\displaystyle 36 x^{5} - \\frac{1}{x^{2}}$"
      ],
      "text/plain": [
       "36*x**5 - 1/x**2"
      ]
     },
     "execution_count": 214,
     "metadata": {},
     "output_type": "execute_result"
    }
   ],
   "source": [
    "sym.diff(1/x+6*x**6)"
   ]
  },
  {
   "cell_type": "code",
   "execution_count": 215,
   "id": "c40805ba-1928-4171-b1eb-ddc30b71bf01",
   "metadata": {},
   "outputs": [
    {
     "data": {
      "text/latex": [
       "$\\displaystyle 0.5 x^{3} - x$"
      ],
      "text/plain": [
       "0.5*x**3 - x"
      ]
     },
     "execution_count": 215,
     "metadata": {},
     "output_type": "execute_result"
    }
   ],
   "source": [
    "#Oppgave 2b\n",
    "-x+(1/2)*x**3"
   ]
  },
  {
   "cell_type": "code",
   "execution_count": 216,
   "id": "16b7acd9-3807-4856-80c9-c61bbdb8313a",
   "metadata": {},
   "outputs": [
    {
     "data": {
      "text/latex": [
       "$\\displaystyle 1.5 x^{2} - 1$"
      ],
      "text/plain": [
       "1.5*x**2 - 1"
      ]
     },
     "execution_count": 216,
     "metadata": {},
     "output_type": "execute_result"
    }
   ],
   "source": [
    "sym.diff(-x+(1/2)*x**3)"
   ]
  },
  {
   "cell_type": "code",
   "execution_count": 221,
   "id": "12f98233-87f8-4d18-9473-8c48174f5d61",
   "metadata": {},
   "outputs": [
    {
     "data": {
      "text/latex": [
       "$\\displaystyle x \\left(x^{2} + 2 x - 3\\right)$"
      ],
      "text/plain": [
       "x*(x**2 + 2*x - 3)"
      ]
     },
     "execution_count": 221,
     "metadata": {},
     "output_type": "execute_result"
    }
   ],
   "source": [
    "#Oppgave 2c\n",
    "x*(x**2+2*x-3)"
   ]
  },
  {
   "cell_type": "code",
   "execution_count": 222,
   "id": "4dd80e89-e511-4d3e-8f85-ed8cac39bd03",
   "metadata": {},
   "outputs": [
    {
     "data": {
      "text/latex": [
       "$\\displaystyle x^{2} + x \\left(2 x + 2\\right) + 2 x - 3$"
      ],
      "text/plain": [
       "x**2 + x*(2*x + 2) + 2*x - 3"
      ]
     },
     "execution_count": 222,
     "metadata": {},
     "output_type": "execute_result"
    }
   ],
   "source": [
    "sym.diff(x*(x**2+2*x-3))"
   ]
  },
  {
   "cell_type": "code",
   "execution_count": 239,
   "id": "c9d98a25-e059-4672-a451-27203544179a",
   "metadata": {},
   "outputs": [
    {
     "data": {
      "text/latex": [
       "$\\displaystyle x^{4.0}$"
      ],
      "text/plain": [
       "x**4.0"
      ]
     },
     "execution_count": 239,
     "metadata": {},
     "output_type": "execute_result"
    }
   ],
   "source": [
    "#20-Produkt- og brøkregelen\n",
    "#Oppgave 1.a\n",
    "x**(12/3)\n",
    "#3**sqrt(x**12)\n"
   ]
  },
  {
   "cell_type": "code",
   "execution_count": 242,
   "id": "717b9e24-89df-490d-b6b9-3eeba260dab3",
   "metadata": {},
   "outputs": [
    {
     "data": {
      "text/latex": [
       "$\\displaystyle \\left(x^{2} + 4\\right)^{0.5}$"
      ],
      "text/plain": [
       "(x**2 + 4)**0.5"
      ]
     },
     "execution_count": 242,
     "metadata": {},
     "output_type": "execute_result"
    }
   ],
   "source": [
    "#Oppgave 1.b\n",
    "(x**2+4)**(4/8)"
   ]
  },
  {
   "cell_type": "code",
   "execution_count": 246,
   "id": "96542872-6805-49f3-9e9a-3ff47f07fbd2",
   "metadata": {},
   "outputs": [
    {
     "data": {
      "text/latex": [
       "$\\displaystyle x^{0.833333333333333}$"
      ],
      "text/plain": [
       "x**0.833333333333333"
      ]
     },
     "execution_count": 246,
     "metadata": {},
     "output_type": "execute_result"
    }
   ],
   "source": [
    "#Oppgave 1.c\n",
    "#√x·3√x\n",
    "x**(1/2)*(x**(1/3))"
   ]
  },
  {
   "cell_type": "code",
   "execution_count": 253,
   "id": "86f4c23f-58c7-4f75-ad98-32c0ef023be3",
   "metadata": {},
   "outputs": [
    {
     "data": {
      "text/latex": [
       "$\\displaystyle \\frac{\\left(x + 2\\right)^{0.5}}{4}$"
      ],
      "text/plain": [
       "(x + 2)**0.5/4"
      ]
     },
     "execution_count": 253,
     "metadata": {},
     "output_type": "execute_result"
    }
   ],
   "source": [
    "#Oppgave 1.D)\n",
    "#4Rot(x+ 2)1/2\n",
    "(x+2)**(1/2)/4"
   ]
  },
  {
   "cell_type": "code",
   "execution_count": 255,
   "id": "1a60909a-b054-4cdc-a17d-9a177334ae80",
   "metadata": {},
   "outputs": [
    {
     "data": {
      "text/latex": [
       "$\\displaystyle x^{9}$"
      ],
      "text/plain": [
       "x**9"
      ]
     },
     "execution_count": 255,
     "metadata": {},
     "output_type": "execute_result"
    }
   ],
   "source": [
    "#Oppgave 1.E\n",
    "x**4*x**5"
   ]
  },
  {
   "cell_type": "code",
   "execution_count": 258,
   "id": "5fe605ad-89b9-418f-8fd7-b3e2574f4dd4",
   "metadata": {},
   "outputs": [
    {
     "data": {
      "text/latex": [
       "$\\displaystyle 9 x^{8}$"
      ],
      "text/plain": [
       "9*x**8"
      ]
     },
     "execution_count": 258,
     "metadata": {},
     "output_type": "execute_result"
    }
   ],
   "source": [
    "sym.diff(x**9)"
   ]
  },
  {
   "cell_type": "code",
   "execution_count": 259,
   "id": "9ce55781-1013-4d6f-982a-de5edd5762f4",
   "metadata": {},
   "outputs": [
    {
     "data": {
      "text/latex": [
       "$\\displaystyle x^{1.5}$"
      ],
      "text/plain": [
       "x**1.5"
      ]
     },
     "execution_count": 259,
     "metadata": {},
     "output_type": "execute_result"
    }
   ],
   "source": [
    "#Oppgave 1.F\n",
    "#x·√x\n",
    "x*x**(1/2)"
   ]
  },
  {
   "cell_type": "code",
   "execution_count": 260,
   "id": "14144b07-a2fc-42df-b4b9-e0a4664313b1",
   "metadata": {},
   "outputs": [
    {
     "data": {
      "text/latex": [
       "$\\displaystyle 1.5 x^{0.5}$"
      ],
      "text/plain": [
       "1.5*x**0.5"
      ]
     },
     "execution_count": 260,
     "metadata": {},
     "output_type": "execute_result"
    }
   ],
   "source": [
    "sym.diff(x**1.5)"
   ]
  },
  {
   "cell_type": "code",
   "execution_count": 261,
   "id": "771c8db7-adfd-4262-af6a-c12c3d5dfbfc",
   "metadata": {},
   "outputs": [
    {
     "data": {
      "text/latex": [
       "$\\displaystyle - \\frac{6}{x^{4}}$"
      ],
      "text/plain": [
       "-6/x**4"
      ]
     },
     "execution_count": 261,
     "metadata": {},
     "output_type": "execute_result"
    }
   ],
   "source": [
    "#Oppgave 1.G\n",
    "#2/x**3\n",
    "sym.diff(2/(x**3))"
   ]
  },
  {
   "cell_type": "code",
   "execution_count": 270,
   "id": "00f129b4-0356-4112-8bae-a3e868522fdf",
   "metadata": {},
   "outputs": [
    {
     "data": {
      "text/latex": [
       "$\\displaystyle 2 x + \\frac{6}{x^{4}}$"
      ],
      "text/plain": [
       "2*x + 6/x**4"
      ]
     },
     "execution_count": 270,
     "metadata": {},
     "output_type": "execute_result"
    }
   ],
   "source": [
    "#Oppgave 1.H\n",
    "#x**2−2/x**3\n",
    "sym.diff((x**2)+(-2)/(x**3))\n"
   ]
  },
  {
   "cell_type": "code",
   "execution_count": null,
   "id": "2e2ed70d-a49b-400e-b96d-7ca17d31827e",
   "metadata": {},
   "outputs": [],
   "source": [
    "#Gjør 1h-M imorgen"
   ]
  },
  {
   "cell_type": "code",
   "execution_count": null,
   "id": "600100cf-9d4b-46bb-802c-6ce131896145",
   "metadata": {},
   "outputs": [],
   "source": [
    "#Oppgave 2.1\n"
   ]
  },
  {
   "cell_type": "code",
   "execution_count": 273,
   "id": "38d37f03-d7ec-4495-b3c5-775d357e8ead",
   "metadata": {},
   "outputs": [
    {
     "data": {
      "text/latex": [
       "$\\displaystyle \\frac{x^{3} - 2 x}{x^{2} - 1}$"
      ],
      "text/plain": [
       "(x**3 - 2*x)/(x**2 - 1)"
      ]
     },
     "execution_count": 273,
     "metadata": {},
     "output_type": "execute_result"
    }
   ],
   "source": [
    "(x**3-2*x)/(x**2-1)"
   ]
  },
  {
   "cell_type": "code",
   "execution_count": null,
   "id": "64c56649-3ba2-448d-89c7-750384ab60a5",
   "metadata": {},
   "outputs": [],
   "source": []
  }
 ],
 "metadata": {
  "kernelspec": {
   "display_name": "Python 3 (ipykernel)",
   "language": "python",
   "name": "python3"
  
  },
  "language_info": {
   "codemirror_mode": {
    "name": "ipython",
    "version": 3
   },
   "file_extension": ".py",
   "mimetype": "text/x-python",
   "name": "python",
   "nbconvert_exporter": "python",
   "pygments_lexer": "ipython3",
   "version": "3.9.5"
  }
 },
 "nbformat": 4,
 "nbformat_minor": 5
}
